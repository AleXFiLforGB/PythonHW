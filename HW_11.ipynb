{
 "cells": [
  {
   "cell_type": "markdown",
   "id": "05b71d8d",
   "metadata": {},
   "source": [
    "# Домашняя работа \n",
    "Создать 2 массива NumPy\n",
    "Один из случайных чисел, второй - использую arange Или linspace\n",
    "После этого выполнить математические операции- сложить, перемножить, делить\n",
    "Найти максимальный элемент в каждой строчке и столбце первого массива (из случайных чисел_\n",
    "Найти максимальный элемент в из 2 массивов\n",
    "Изменить форму массива"
   ]
  },
  {
   "cell_type": "code",
   "execution_count": 1,
   "id": "36d7647a",
   "metadata": {},
   "outputs": [],
   "source": [
    "import numpy as np"
   ]
  },
  {
   "cell_type": "code",
   "execution_count": 2,
   "id": "b7e8f821",
   "metadata": {},
   "outputs": [
    {
     "data": {
      "text/plain": [
       "array([[4, 7, 5],\n",
       "       [5, 8, 3],\n",
       "       [6, 8, 8]])"
      ]
     },
     "execution_count": 2,
     "metadata": {},
     "output_type": "execute_result"
    }
   ],
   "source": [
    "ar1 = np.random.randint(1, 10,  size = (3,3))\n",
    "ar1"
   ]
  },
  {
   "cell_type": "code",
   "execution_count": 3,
   "id": "bd8244d3",
   "metadata": {},
   "outputs": [
    {
     "data": {
      "text/plain": [
       "array([ 1,  3,  5,  8, 10, 12, 15, 17, 20])"
      ]
     },
     "execution_count": 3,
     "metadata": {},
     "output_type": "execute_result"
    }
   ],
   "source": [
    "ar2 = np.linspace(1, 20, 9, dtype = int)\n",
    "ar2"
   ]
  },
  {
   "cell_type": "code",
   "execution_count": 4,
   "id": "c31b6225",
   "metadata": {},
   "outputs": [
    {
     "data": {
      "text/plain": [
       "array([[ 1,  3,  5],\n",
       "       [ 8, 10, 12],\n",
       "       [15, 17, 20]])"
      ]
     },
     "execution_count": 4,
     "metadata": {},
     "output_type": "execute_result"
    }
   ],
   "source": [
    "ar2 = ar2.reshape(3,3)\n",
    "ar2\n"
   ]
  },
  {
   "cell_type": "code",
   "execution_count": 5,
   "id": "5c338ef5",
   "metadata": {},
   "outputs": [
    {
     "data": {
      "text/plain": [
       "(array([[ 5, 10, 10],\n",
       "        [13, 18, 15],\n",
       "        [21, 25, 28]]),\n",
       " array([[  4,  21,  25],\n",
       "        [ 40,  80,  36],\n",
       "        [ 90, 136, 160]]),\n",
       " array([[0.25      , 0.42857143, 1.        ],\n",
       "        [1.6       , 1.25      , 4.        ],\n",
       "        [2.5       , 2.125     , 2.5       ]]))"
      ]
     },
     "execution_count": 5,
     "metadata": {},
     "output_type": "execute_result"
    }
   ],
   "source": [
    "ar_sum = ar2 + ar1\n",
    "ar_mult = ar2 * ar1\n",
    "ar_div = ar2 / ar1\n",
    "ar_sum, ar_mult, ar_div"
   ]
  },
  {
   "cell_type": "code",
   "execution_count": 6,
   "id": "f2818145",
   "metadata": {},
   "outputs": [
    {
     "data": {
      "text/plain": [
       "((3, 8), (1, 20))"
      ]
     },
     "execution_count": 6,
     "metadata": {},
     "output_type": "execute_result"
    }
   ],
   "source": [
    "(ar1.min(), ar1.max()), (ar2.min(), ar2.max())\n"
   ]
  },
  {
   "cell_type": "code",
   "execution_count": 7,
   "id": "c750028b",
   "metadata": {},
   "outputs": [
    {
     "data": {
      "text/plain": [
       "array([7, 8, 8])"
      ]
     },
     "execution_count": 7,
     "metadata": {},
     "output_type": "execute_result"
    }
   ],
   "source": [
    "ar1.max(axis = 1)"
   ]
  },
  {
   "cell_type": "code",
   "execution_count": 8,
   "id": "e529eeae",
   "metadata": {},
   "outputs": [
    {
     "data": {
      "text/plain": [
       "array([6, 8, 8])"
      ]
     },
     "execution_count": 8,
     "metadata": {},
     "output_type": "execute_result"
    }
   ],
   "source": [
    "ar1.max(axis = 0)"
   ]
  },
  {
   "cell_type": "code",
   "execution_count": 9,
   "id": "62c38705",
   "metadata": {},
   "outputs": [
    {
     "data": {
      "text/plain": [
       "20"
      ]
     },
     "execution_count": 9,
     "metadata": {},
     "output_type": "execute_result"
    }
   ],
   "source": [
    "max(ar1.max(),ar2.max())"
   ]
  }
 ],
 "metadata": {
  "kernelspec": {
   "display_name": "Python 3 (ipykernel)",
   "language": "python",
   "name": "python3"
  },
  "language_info": {
   "codemirror_mode": {
    "name": "ipython",
    "version": 3
   },
   "file_extension": ".py",
   "mimetype": "text/x-python",
   "name": "python",
   "nbconvert_exporter": "python",
   "pygments_lexer": "ipython3",
   "version": "3.9.13"
  }
 },
 "nbformat": 4,
 "nbformat_minor": 5
}
